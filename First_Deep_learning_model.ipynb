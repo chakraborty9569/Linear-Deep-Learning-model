{
 "cells": [
  {
   "cell_type": "code",
   "execution_count": 1,
   "metadata": {},
   "outputs": [],
   "source": [
    "# importing the necessary libraries\n",
    "import numpy as np\n",
    "import matplotlib.pyplot as plt"
   ]
  },
  {
   "cell_type": "code",
   "execution_count": 3,
   "metadata": {},
   "outputs": [
    {
     "name": "stdout",
     "output_type": "stream",
     "text": [
      "(1000, 2)\n"
     ]
    }
   ],
   "source": [
    "observations = 1000\n",
    "# generating random inputs of 1000 observations\n",
    "xs = np.random.uniform(-10,10,(observations,1))\n",
    "zs = np.random.uniform(-10,10,(observations,1))\n",
    "\n",
    "# combining the two inputs in a single 1000x2 matrix\n",
    "inputs = np.column_stack((xs,zs))\n",
    "\n",
    "print(inputs.shape)"
   ]
  },
  {
   "cell_type": "code",
   "execution_count": 6,
   "metadata": {},
   "outputs": [
    {
     "name": "stdout",
     "output_type": "stream",
     "text": [
      "(1000, 1)\n"
     ]
    }
   ],
   "source": [
    "# setting the target\n",
    "noise=np.random.uniform(-1,1,(observations,1))\n",
    "\n",
    "target = 2*xs - 5*zs + 5 + noise\n",
    "\n",
    "print(target.shape)"
   ]
  },
  {
   "cell_type": "code",
   "execution_count": 8,
   "metadata": {},
   "outputs": [
    {
     "name": "stdout",
     "output_type": "stream",
     "text": [
      "[[0.26873229]\n",
      " [0.64028073]]\n",
      "[0.86368216]\n"
     ]
    }
   ],
   "source": [
    "# generating weights and biases\n",
    "weights=np.random.uniform(-1,1,(2,1))\n",
    "bias=np.random.uniform(-1,1,1)\n",
    "\n",
    "print(weights)\n",
    "print(bias)"
   ]
  },
  {
   "cell_type": "code",
   "execution_count": 9,
   "metadata": {},
   "outputs": [],
   "source": [
    "# setting an arbitrary learning rate\n",
    "learning_rate = 0.02"
   ]
  },
  {
   "cell_type": "code",
   "execution_count": 12,
   "metadata": {},
   "outputs": [
    {
     "name": "stdout",
     "output_type": "stream",
     "text": [
      "0.3286247669182242\n",
      "0.3225437906769741\n",
      "0.31670311883014873\n",
      "0.31109325517192626\n",
      "0.30570507876188696\n",
      "0.30052982909549847\n",
      "0.29555909186062373\n",
      "0.2907847852568968\n",
      "0.2861991468557235\n",
      "0.2817947209795327\n",
      "0.2775643465797788\n",
      "0.2735011455939614\n",
      "0.26959851176275684\n",
      "0.26585009988905617\n",
      "0.2622498155214713\n",
      "0.2587918050455082\n",
      "0.2554704461663245\n",
      "0.2522803387675705\n",
      "0.24921629613147928\n",
      "0.24627333650590144\n",
      "0.24344667500460193\n",
      "0.24073171582762773\n",
      "0.23812404478910754\n",
      "0.23561942214033751\n",
      "0.23321377567647492\n",
      "0.2309031941156414\n",
      "0.22868392073966443\n",
      "0.22655234728612067\n",
      "0.22450500808175064\n",
      "0.22253857440770447\n",
      "0.22064984908746035\n",
      "0.21883576128861276\n",
      "0.21709336153007877\n",
      "0.2154198168866138\n",
      "0.2138124063828217\n",
      "0.21226851656919224\n",
      "0.21078563727295374\n",
      "0.2093613575168469\n",
      "0.2079933615991736\n",
      "0.20667942532875533\n",
      "0.2054174124086759\n",
      "0.204205270962926\n",
      "0.20304103020031053\n",
      "0.20192279721018455\n",
      "0.20084875388481913\n",
      "0.19981715396338207\n",
      "0.19882632019273633\n",
      "0.1978746416004345\n",
      "0.19696057087547755\n",
      "0.196082621852581\n",
      "0.19523936709585352\n",
      "0.19442943557796485\n",
      "0.19365151045102555\n",
      "0.19290432690555614\n",
      "0.19218667011406385\n",
      "0.19149737325588542\n",
      "0.19083531562008038\n",
      "0.19019942078329535\n",
      "0.1895886548596339\n",
      "0.18900202481968525\n",
      "0.18843857687598362\n",
      "0.18789739493226762\n",
      "0.18737759909402218\n",
      "0.18687834423787836\n",
      "0.18639881863755\n",
      "0.1859382426440651\n",
      "0.185495867418156\n",
      "0.18507097371273845\n",
      "0.18466287070350587\n",
      "0.18427089486573486\n",
      "0.18389440889547662\n",
      "0.1835328006733796\n",
      "0.1831854822694602\n",
      "0.18285188898720128\n",
      "0.18253147844542628\n",
      "0.18222372969645437\n",
      "0.18192814237910535\n",
      "0.18164423590517292\n",
      "0.18137154867804964\n",
      "0.1811096373422276\n",
      "0.18085807606245752\n",
      "0.18061645583139382\n",
      "0.1803843838045989\n",
      "0.1801614826618282\n",
      "0.17994738999355311\n",
      "0.17974175771172907\n",
      "0.17954425148384728\n",
      "0.17935455018935176\n",
      "0.1791723453975371\n",
      "0.17899734086607866\n",
      "0.17882925205938005\n",
      "0.178667805685952\n",
      "0.17851273925407607\n",
      "0.17836380064502483\n",
      "0.17822074770314816\n",
      "0.17808334784215954\n",
      "0.1779513776669777\n",
      "0.17782462261051551\n",
      "0.17770287658481976\n",
      "0.17758594164599847\n"
     ]
    }
   ],
   "source": [
    "# determining the least possible weights and bias value or in other words training the model\n",
    "for i in range(100):\n",
    "    output=np.dot(inputs,weights)+bias\n",
    "    # difference between estimated output and target output\n",
    "    deltas=output-target\n",
    "    \n",
    "    # L-2 Norm Loss Function\n",
    "    loss=np.sum(deltas ** 2) / 2 / observations\n",
    "    \n",
    "    print(loss)\n",
    "    \n",
    "    deltas_scaled = deltas/observations\n",
    "    # updating weights and biases with the help of Gradient Descent Function\n",
    "    weights = weights - learning_rate*np.dot(inputs.T,deltas_scaled)\n",
    "    bias=bias-learning_rate*np.sum(deltas_scaled)\n",
    "    \n",
    "    # the below output is a result of second round of iteration"
   ]
  },
  {
   "cell_type": "code",
   "execution_count": 13,
   "metadata": {},
   "outputs": [
    {
     "name": "stdout",
     "output_type": "stream",
     "text": [
      "[[ 1.99663833]\n",
      " [-5.00526729]] [4.91698333]\n"
     ]
    }
   ],
   "source": [
    "# minimum possible value of weights and bias taking learning rate=0.02 as reference\n",
    "print(weights,bias)"
   ]
  },
  {
   "cell_type": "code",
   "execution_count": 16,
   "metadata": {},
   "outputs": [
    {
     "data": {
      "image/png": "[encoded data removed]",
      "text/plain": [
       "<Figure size 432x288 with 1 Axes>"
      ]
     },
     "metadata": {
      "needs_background": "light"
     },
     "output_type": "display_data"
    }
   ],
   "source": [
    "# target vs output plot\n",
    "plt.plot(output,target)\n",
    "plt.xlabel(\"output\")\n",
    "plt.ylabel(\"target\")\n",
    "plt.show()"
   ]
  },
  {
   "cell_type": "code",
   "execution_count": null,
   "metadata": {},
   "outputs": [],
   "source": []
  }
 ],
 "metadata": {
  "kernelspec": {
   "display_name": "Python 3",
   "language": "python",
   "name": "python3"
  },
  "language_info": {
   "codemirror_mode": {
    "name": "ipython",
    "version": 3
   },
   "file_extension": ".py",
   "mimetype": "text/x-python",
   "name": "python",
   "nbconvert_exporter": "python",
   "pygments_lexer": "ipython3",
   "version": "3.7.6"
  }
 },
 "nbformat": 4,
 "nbformat_minor": 4
}
